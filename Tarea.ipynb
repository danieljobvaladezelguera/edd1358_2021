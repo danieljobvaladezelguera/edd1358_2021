{
  "nbformat": 4,
  "nbformat_minor": 0,
  "metadata": {
    "colab": {
      "name": "Tarea.ipynb",
      "provenance": [],
      "collapsed_sections": [],
      "authorship_tag": "ABX9TyNazdnNiEVhmw4nSi4FTsPY",
      "include_colab_link": true
    },
    "kernelspec": {
      "name": "python3",
      "display_name": "Python 3"
    }
  },
  "cells": [
    {
      "cell_type": "markdown",
      "metadata": {
        "id": "view-in-github",
        "colab_type": "text"
      },
      "source": [
        "<a href=\"https://colab.research.google.com/github/danieljobvaladezelguera/edd1358_2021/blob/master/Tarea.ipynb\" target=\"_parent\"><img src=\"https://colab.research.google.com/assets/colab-badge.svg\" alt=\"Open In Colab\"/></a>"
      ]
    },
    {
      "cell_type": "code",
      "metadata": {
        "id": "DQtIK-_uwbPI",
        "colab": {
          "base_uri": "https://localhost:8080/"
        },
        "outputId": "47f5b6f3-fe02-42cd-bc22-b6be5a5221f3"
      },
      "source": [
        "#Tarea 2\r\n",
        "def cuenta_regresiva(numero):\r\n",
        "     numero -= 1\r\n",
        "     if numero > 0:\r\n",
        "         print (numero)\r\n",
        "         cuenta_regresiva(numero)\r\n",
        "     else:\r\n",
        "         print (\"Boooooooom!\")\r\n",
        "         print (f\"Fin de la función\", numero)\r\n",
        "\r\n",
        "\r\n",
        "cuenta_regresiva (10)"
      ],
      "execution_count": 9,
      "outputs": [
        {
          "output_type": "stream",
          "text": [
            "9\n",
            "8\n",
            "7\n",
            "6\n",
            "5\n",
            "4\n",
            "3\n",
            "2\n",
            "1\n",
            "Boooooooom!\n",
            "Fin de la función 0\n"
          ],
          "name": "stdout"
        }
      ]
    },
    {
      "cell_type": "code",
      "metadata": {
        "colab": {
          "base_uri": "https://localhost:8080/"
        },
        "id": "JOLKqdkdoqhM",
        "outputId": "1c3c3bee-07c2-4527-f8d4-cf52e43d1c8b"
      },
      "source": [
        "\r\n",
        "def suma(lista):\r\n",
        "  suma = 0\r\n",
        "  # Suma cada numero de la lista.\r\n",
        "  for i in range(0,len(lista)):\r\n",
        "    suma = suma + lista[i]\r\n",
        "  # Devuelve la suma\r\n",
        "  return suma\r\n",
        "print(suma([6,3,4,2,10]))"
      ],
      "execution_count": 8,
      "outputs": [
        {
          "output_type": "stream",
          "text": [
            "25\n"
          ],
          "name": "stdout"
        }
      ]
    }
  ]
}