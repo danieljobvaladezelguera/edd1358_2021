{
  "nbformat": 4,
  "nbformat_minor": 0,
  "metadata": {
    "colab": {
      "name": "Untitled1.ipynb",
      "provenance": [],
      "authorship_tag": "ABX9TyPBOqUg6Y5QDtpQejEsQa+y",
      "include_colab_link": true
    },
    "kernelspec": {
      "name": "python3",
      "display_name": "Python 3"
    }
  },
  "cells": [
    {
      "cell_type": "markdown",
      "metadata": {
        "id": "view-in-github",
        "colab_type": "text"
      },
      "source": [
        "<a href=\"https://colab.research.google.com/github/danieljobvaladezelguera/edd1358_2021/blob/master/Untitled1.ipynb\" target=\"_parent\"><img src=\"https://colab.research.google.com/assets/colab-badge.svg\" alt=\"Open In Colab\"/></a>"
      ]
    },
    {
      "cell_type": "code",
      "metadata": {
        "id": "5V5ABicRWTFQ",
        "outputId": "f52d93a7-96ab-4ff8-87df-e9bf1ceb342d",
        "colab": {
          "base_uri": "https://localhost:8080/",
          "height": 190
        }
      },
      "source": [
        "# diccrionarios (continuación)\n",
        "cliente_banco = {\n",
        "    \"id\" :1,\n",
        "    \"nombres\" :[\"Juan\", \"Antonio\"],\n",
        "    \"Apellido_A\": \"García\",\n",
        "    \"Apellido_B\": \"Pérez\",\n",
        "    \"telefonos\":{\n",
        "        \"casa\": 5566778899,\n",
        "        \"celular\": 5544332211,\n",
        "        \"trabajo\": 5566223311\n",
        "    },\n",
        "    \"activo\" : True,\n",
        "    \"balance\": 234567.89,\n",
        "    \"tarjetas\": ({\"Tipo\": \"debito\",\"saldo\":12000},\n",
        "                 {\"Tipo\": \"crédito\", \"saldo\":345000},{})\n",
        "\n",
        "\n",
        "}\n",
        "\n",
        "print(cliente_banco)\n",
        "print(\"#############################################################\")\n",
        "cliente_banco[\"balance\"] = cliente_banco[\"balance\"]-100\n",
        "print(\"#############################################################\")\n",
        "cliente_banco[\"balance\"] -= 1000.89\n",
        "\n",
        "print(cliente_banco)\n",
        "print(\"#############################################################\")\n",
        "cliente_banco[\"tarjetas\"] = ({\"Tipo\": \"debito\",\"saldo\":12000},\n",
        "                 {\"Tipo\": \"crédito\", \"saldo\":345000},\n",
        "                 {\"Tipo\":\"crédito\", \"nivel\":\"oro\", \"saldo\":5000.00})\n",
        "print(cliente_banco)\n",
        "\n",
        "print(\"#############################################################\")\n",
        "\n",
        "cliente_banco[\"Dirección\"] = {\"calle\": \"rancho seco\", \"num\":23}\n",
        "print(cliente_banco)\n",
        "cliente_banco.pop(\"tarjetas\")\n",
        "print(cliente_banco)"
      ],
      "execution_count": 7,
      "outputs": [
        {
          "output_type": "stream",
          "text": [
            "{'id': 1, 'nombres': ['Juan', 'Antonio'], 'Apellido_A': 'García', 'Apellido_B': 'Pérez', 'telefonos': {'casa': 5566778899, 'celular': 5544332211, 'trabajo': 5566223311}, 'activo': True, 'balance': 234567.89, 'tarjetas': ({'Tipo': 'debito', 'saldo': 12000}, {'Tipo': 'crédito', 'saldo': 345000}, {})}\n",
            "#############################################################\n",
            "#############################################################\n",
            "{'id': 1, 'nombres': ['Juan', 'Antonio'], 'Apellido_A': 'García', 'Apellido_B': 'Pérez', 'telefonos': {'casa': 5566778899, 'celular': 5544332211, 'trabajo': 5566223311}, 'activo': True, 'balance': 233467.0, 'tarjetas': ({'Tipo': 'debito', 'saldo': 12000}, {'Tipo': 'crédito', 'saldo': 345000}, {})}\n",
            "#############################################################\n",
            "{'id': 1, 'nombres': ['Juan', 'Antonio'], 'Apellido_A': 'García', 'Apellido_B': 'Pérez', 'telefonos': {'casa': 5566778899, 'celular': 5544332211, 'trabajo': 5566223311}, 'activo': True, 'balance': 233467.0, 'tarjetas': ({'Tipo': 'debito', 'saldo': 12000}, {'Tipo': 'crédito', 'saldo': 345000}, {'Tipo': 'crédito', 'nivel': 'oro', 'saldo': 5000.0})}\n",
            "#############################################################\n",
            "{'id': 1, 'nombres': ['Juan', 'Antonio'], 'Apellido_A': 'García', 'Apellido_B': 'Pérez', 'telefonos': {'casa': 5566778899, 'celular': 5544332211, 'trabajo': 5566223311}, 'activo': True, 'balance': 233467.0, 'tarjetas': ({'Tipo': 'debito', 'saldo': 12000}, {'Tipo': 'crédito', 'saldo': 345000}, {'Tipo': 'crédito', 'nivel': 'oro', 'saldo': 5000.0}), 'Dirección': {'calle': 'rancho seco', 'num': 23}}\n",
            "{'id': 1, 'nombres': ['Juan', 'Antonio'], 'Apellido_A': 'García', 'Apellido_B': 'Pérez', 'telefonos': {'casa': 5566778899, 'celular': 5544332211, 'trabajo': 5566223311}, 'activo': True, 'balance': 233467.0, 'Dirección': {'calle': 'rancho seco', 'num': 23}}\n"
          ],
          "name": "stdout"
        }
      ]
    },
    {
      "cell_type": "code",
      "metadata": {
        "id": "3jX3NGEGeCI6",
        "outputId": "b6693643-e863-4076-c558-b695ca1b38ed",
        "colab": {
          "base_uri": "https://localhost:8080/",
          "height": 129
        }
      },
      "source": [
        "llaves = cliente_banco.keys()\n",
        "print(llaves)\n",
        "print(type(llaves))\n",
        "for x in llaves:\n",
        "  print(x)\n",
        "\n",
        "print(\"#############################################################\")\n",
        "\n",
        "valores = cliente_banco.values()\n",
        "for v in valores:\n",
        "  print(v)\n",
        "\n",
        "pares = cliente_banco.items()\n",
        "print(pares)\n",
        "\n",
        "for elem in pares:\n",
        "  print(f\" {elem[0]} = {[elem[1]} \")\n",
        "\n"
      ],
      "execution_count": 16,
      "outputs": [
        {
          "output_type": "error",
          "ename": "SyntaxError",
          "evalue": "ignored",
          "traceback": [
            "\u001b[0;36m  File \u001b[0;32m\"<ipython-input-16-6af71cc1ecfa>\"\u001b[0;36m, line \u001b[0;32m17\u001b[0m\n\u001b[0;31m    print(f\" {elem[0]} = {[elem[1]} \")\u001b[0m\n\u001b[0m         ^\u001b[0m\n\u001b[0;31mSyntaxError\u001b[0m\u001b[0;31m:\u001b[0m f-string: expecting '}'\n"
          ]
        }
      ]
    },
    {
      "cell_type": "code",
      "metadata": {
        "id": "0hM8p3nEhC9b",
        "outputId": "cca2122e-bf45-4ddb-ac44-31fdd90971bd",
        "colab": {
          "base_uri": "https://localhost:8080/",
          "height": 51
        }
      },
      "source": [
        "fruta = {\"nombre\": \"manzana\", \"color\":\"rojo\", \"estado\":\"Chihuahua\"}\n",
        "otras_c = {\"vitamina\":\"D\"}\n",
        "print(fruta)\n",
        "fruta.update(otras_c)\n",
        "print(fruta)"
      ],
      "execution_count": 17,
      "outputs": [
        {
          "output_type": "stream",
          "text": [
            "{'nombre': 'manzana', 'color': 'rojo', 'estado': 'Chihuahua'}\n",
            "{'nombre': 'manzana', 'color': 'rojo', 'estado': 'Chihuahua', 'vitamina': 'D'}\n"
          ],
          "name": "stdout"
        }
      ]
    },
    {
      "cell_type": "markdown",
      "metadata": {
        "id": "2yUako2XiaA9"
      },
      "source": [
        "#FUNCIONES\n",
        "\n",
        "-Recibe de 0 a n argumentos de entrada\n",
        "-Regresa sólo 1 valor, \n",
        "-Tiene un nombre único en el contexto\n",
        "-Se pueden hacer sólo 2 cosas con funciones:\n",
        "  -Definirla\n",
        "  -Llamarla"
      ]
    },
    {
      "cell_type": "markdown",
      "metadata": {
        "id": "J13JCIPdjLkD"
      },
      "source": [
        "def suma (a,b)"
      ]
    },
    {
      "cell_type": "code",
      "metadata": {
        "id": "AfCPiS-UjN1V"
      },
      "source": [
        "def suma (a,b):\n",
        "  return a+bin\n",
        "\n",
        "def saludar():\n",
        "  print(\"Hola, ¿cómo estás?\")\n",
        "  return None\n",
        "\n",
        "def suma(x,y):\n",
        "  return None\n",
        "\n",
        "x = 10\n",
        "y = 20\n",
        "c = suma (x,y)\n",
        "\n",
        "print(c)"
      ],
      "execution_count": null,
      "outputs": []
    },
    {
      "cell_type": "markdown",
      "metadata": {
        "id": "67IdfBqVlHjk"
      },
      "source": [
        "#NONE Y LAS FUNCIONES\n",
        "\n",
        "Aprovechar el uso de none en pase de parámetros\n",
        "\n"
      ]
    },
    {
      "cell_type": "code",
      "metadata": {
        "id": "64YIQ7ollYf_",
        "outputId": "70e52fbc-34c9-45e5-c348-dc1909afec62",
        "colab": {
          "base_uri": "https://localhost:8080/",
          "height": 51
        }
      },
      "source": [
        "def calcular(base,veces):\n",
        "  if base != None:\n",
        "    resultado = base * veces\n",
        "  else:\n",
        "    resultado = \"desconocido\"\n",
        "  return resultado\n",
        "\n",
        "print(calcular(4,3))\n",
        "print(calcular(None,3))\n",
        "\n"
      ],
      "execution_count": 18,
      "outputs": [
        {
          "output_type": "stream",
          "text": [
            "12\n",
            "desconocido\n"
          ],
          "name": "stdout"
        }
      ]
    }
  ]
}