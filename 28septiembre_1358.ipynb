{
  "nbformat": 4,
  "nbformat_minor": 0,
  "metadata": {
    "colab": {
      "name": "28septiembre_1358.ipynb",
      "provenance": [],
      "collapsed_sections": [],
      "authorship_tag": "ABX9TyPTpd+G+6Ab3M0jy4KLcyqS",
      "include_colab_link": true
    },
    "kernelspec": {
      "name": "python3",
      "display_name": "Python 3"
    }
  },
  "cells": [
    {
      "cell_type": "markdown",
      "metadata": {
        "id": "view-in-github",
        "colab_type": "text"
      },
      "source": [
        "<a href=\"https://colab.research.google.com/github/danieljobvaladezelguera/edd1358_2021/blob/master/28septiembre_1358.ipynb\" target=\"_parent\"><img src=\"https://colab.research.google.com/assets/colab-badge.svg\" alt=\"Open In Colab\"/></a>"
      ]
    },
    {
      "cell_type": "code",
      "metadata": {
        "id": "nxqpuWnMgiUo"
      },
      "source": [
        "class Silla(object):\n",
        "  def _init_(self):\n",
        "    self.material = \"\"\n",
        "    self.color = \"\"\n",
        "\n",
        "  def to_string(self):\n",
        "    print(\"----------\")\n",
        "    print(f\"Material : {self.material}\")\n",
        "    print(f\"{self.color}----------\")"
      ],
      "execution_count": null,
      "outputs": []
    },
    {
      "cell_type": "code",
      "metadata": {
        "id": "63nPjih4gnRm"
      },
      "source": [
        "obj = Silla()\n",
        "obj.material = \"Madera\"\n",
        "obj.color = \"Cafe\"\n",
        "obj.to_string()"
      ],
      "execution_count": null,
      "outputs": []
    }
  ]
}