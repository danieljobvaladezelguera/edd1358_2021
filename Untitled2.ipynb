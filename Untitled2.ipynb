{
  "nbformat": 4,
  "nbformat_minor": 0,
  "metadata": {
    "colab": {
      "name": "Untitled2.ipynb",
      "provenance": [],
      "authorship_tag": "ABX9TyOWyASjJwPGaPJVQ7+uZLKN",
      "include_colab_link": true
    },
    "kernelspec": {
      "name": "python3",
      "display_name": "Python 3"
    }
  },
  "cells": [
    {
      "cell_type": "markdown",
      "metadata": {
        "id": "view-in-github",
        "colab_type": "text"
      },
      "source": [
        "<a href=\"https://colab.research.google.com/github/danieljobvaladezelguera/edd1358_2021/blob/master/Untitled2.ipynb\" target=\"_parent\"><img src=\"https://colab.research.google.com/assets/colab-badge.svg\" alt=\"Open In Colab\"/></a>"
      ]
    },
    {
      "cell_type": "code",
      "metadata": {
        "id": "wtRbWkYHpf_n",
        "outputId": "43973cd3-6d9c-45b0-8a03-3172ce13189d",
        "colab": {
          "base_uri": "https://localhost:8080/",
          "height": 85
        }
      },
      "source": [
        "def calcular (a,b,c):\n",
        "  x = a + (b/c)\n",
        "  return x\n",
        "\n",
        "print(calcular(5,9,3))\n",
        "print(calcular( a = 5, c=3, b=9))\n",
        "\n",
        "def calcular_v2(a = 10, b = 20, c = 5):\n",
        "  x = a + (b/c)\n",
        "  return x\n",
        "\n",
        "print(calcular_v2(40))\n",
        "print(calcular_v2(a=10,b=20,c=8))\n"
      ],
      "execution_count": 4,
      "outputs": [
        {
          "output_type": "stream",
          "text": [
            "8.0\n",
            "8.0\n",
            "44.0\n",
            "12.5\n"
          ],
          "name": "stdout"
        }
      ]
    },
    {
      "cell_type": "markdown",
      "metadata": {
        "id": "zY04xZC7ruAX"
      },
      "source": [
        "#Argumentos a funciones por tupla *\n",
        "\n",
        "Se envían los argumentos en un conjunto de elementos dentro de una tupla\n",
        "\n"
      ]
    },
    {
      "cell_type": "code",
      "metadata": {
        "id": "WObpUdnQrtd6",
        "outputId": "af687d8d-a070-4faa-cf52-dedf3c35f2da",
        "colab": {
          "base_uri": "https://localhost:8080/",
          "height": 51
        }
      },
      "source": [
        "def calculo( *elem):\n",
        "  print(elem)\n",
        "  x = elem[0] + (elem[1] / elem[2])\n",
        "  return x\n",
        "\n",
        "print(calculo(5,9,3))"
      ],
      "execution_count": 5,
      "outputs": [
        {
          "output_type": "stream",
          "text": [
            "(5, 9, 3)\n",
            "8.0\n"
          ],
          "name": "stdout"
        }
      ]
    },
    {
      "cell_type": "markdown",
      "metadata": {
        "id": "GezXIReMsx2G"
      },
      "source": [
        "#Argumentos como diccionario **\n",
        "\n"
      ]
    },
    {
      "cell_type": "code",
      "metadata": {
        "id": "-gp2XczFs_Sm",
        "outputId": "9f0b60f7-0236-4ce2-8b36-de8e98fd791c",
        "colab": {
          "base_uri": "https://localhost:8080/",
          "height": 51
        }
      },
      "source": [
        "def calculo (**elem):\n",
        "  print(elem)\n",
        "  x = elem ['a'] + (elem['b'] / elem['c'])\n",
        "  return x\n",
        "  \n",
        "print(calculo(a=5, b=9, c=3))\n",
        "\n"
      ],
      "execution_count": 8,
      "outputs": [
        {
          "output_type": "stream",
          "text": [
            "{'a': 5, 'b': 9, 'c': 3}\n",
            "8.0\n"
          ],
          "name": "stdout"
        }
      ]
    },
    {
      "cell_type": "markdown",
      "metadata": {
        "id": "z0Wuq88-2hjD"
      },
      "source": [
        "#Archivos\n",
        "- Abrirlos\n",
        "  - un str con la ruta del archivo\n",
        "  - dos caracteres: 1 -> modo de apertura\n",
        "- Leerlos\n",
        "- Modificarlos\n"
      ]
    },
    {
      "cell_type": "code",
      "metadata": {
        "id": "OJyKjIcc2_l8"
      },
      "source": [
        "archivo = open('ejemplo.txt','wt')\n",
        "\n",
        "archivo.write(\"Hola mundo de archivos\")\n",
        "\n",
        "archivo.close()\n",
        "\n",
        "\n"
      ],
      "execution_count": 10,
      "outputs": []
    },
    {
      "cell_type": "code",
      "metadata": {
        "id": "kn-nEP824k97"
      },
      "source": [
        "!(cat ejemplo.txt > otra.txt)"
      ],
      "execution_count": 14,
      "outputs": []
    }
  ]
}