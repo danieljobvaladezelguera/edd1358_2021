{
  "nbformat": 4,
  "nbformat_minor": 0,
  "metadata": {
    "colab": {
      "name": "5octubre.ipynb",
      "provenance": [],
      "collapsed_sections": [],
      "authorship_tag": "ABX9TyNV4zBgGT+YcJoaB+Y8oR0J",
      "include_colab_link": true
    },
    "kernelspec": {
      "name": "python3",
      "display_name": "Python 3"
    }
  },
  "cells": [
    {
      "cell_type": "markdown",
      "metadata": {
        "id": "view-in-github",
        "colab_type": "text"
      },
      "source": [
        "<a href=\"https://colab.research.google.com/github/danieljobvaladezelguera/edd1358_2021/blob/master/5octubre.ipynb\" target=\"_parent\"><img src=\"https://colab.research.google.com/assets/colab-badge.svg\" alt=\"Open In Colab\"/></a>"
      ]
    },
    {
      "cell_type": "code",
      "metadata": {
        "id": "xiMhsxbxUUd8",
        "outputId": "71f33bb3-6e2c-4671-d168-704c38a76a91",
        "colab": {
          "base_uri": "https://localhost:8080/",
          "height": 85
        }
      },
      "source": [
        "precio = 12.5\n",
        "cantdad = 2\n",
        "existencia = True\n",
        "\n",
        "\n",
        "print(\"precio de los chetos es $\",precio, \"y quiero \",cantidad,\"hay?? \", existencia)\n",
        "print(\"precio de los chetos es $ {0} y quiero {1} hay?? {2}\".format(precio,cantidad,existencia))\n",
        "print(\"###########################\")\n",
        "#operador f\n",
        "print(f\"precio de los chetos es $ {precio} y quiero {cantidad} hay?? {existencia}\")\n"
      ],
      "execution_count": 6,
      "outputs": [
        {
          "output_type": "stream",
          "text": [
            "precio de los chetos es $ 12.5 y quiero  2 hay??  True\n",
            "precio de los chetos es $ 12.5 y quiero 2 hay?? True\n",
            "###########################\n",
            "precio de los chetos es $ 12.5 y quiero 2 hay?? True\n"
          ],
          "name": "stdout"
        }
      ]
    },
    {
      "cell_type": "markdown",
      "metadata": {
        "id": "tB1ONNDBVT6J"
      },
      "source": [
        "# Sección nueva"
      ]
    },
    {
      "cell_type": "markdown",
      "metadata": {
        "id": "Dj397AaDYwjC"
      },
      "source": [
        "#Listas\n",
        "declaración[]\n",
        "selector[]\n",
        "mutables\n",
        "\n",
        "#Tuplas\n",
        "declaración ()\n",
        "selector[]\n",
        "no mutable\n",
        "\n",
        "#Diccionarios\n",
        "conjuntos de datos en pares de llaves:valor\n",
        "\n",
        "son mutables\n",
        "\n",
        "equivalentes a JSON\n",
        "\n",
        "\n",
        "#Conjuntos\n",
        "Grupo de elementos con la teoría de conjuntos operacionales "
      ]
    },
    {
      "cell_type": "markdown",
      "metadata": {
        "id": "0ft2f0TxZahZ"
      },
      "source": [
        ""
      ]
    },
    {
      "cell_type": "code",
      "metadata": {
        "id": "MyFC046RZbN8",
        "outputId": "7c855448-f216-4aa0-ac58-bd087351e81f",
        "colab": {
          "base_uri": "https://localhost:8080/",
          "height": 306
        }
      },
      "source": [
        "#Listas\n",
        "materias = ['CyP', 'DAA','EDD', 'IS','POO']\n",
        "print(materias)\n",
        "\n",
        "print(materias[2])\n",
        "print(materias[-1])\n",
        "print(materias[::-1])\n",
        "\n",
        "fecha = \"5/octubre/2020\"\n",
        "lista_fecha = fecha.split(\"/\")\n",
        "print(lista_fecha)\n",
        "\n",
        "lista_hora = ['15','22','45']\n",
        "hora = \":\".join(lista_hora)\n",
        "print(hora)\n",
        "print(\"-----------------------------\")\n",
        "\n",
        "print(materias)\n",
        "print(lista_fecha)\n",
        "print(lista_hora)\n",
        "\n",
        "materias.append('calidad')\n",
        "print(materias)\n",
        "\n",
        "materias.insert(2,\"Emprendimiento\")\n",
        "print(materias)\n",
        "materia = materias.pop()\n",
        "print(materia)\n",
        "print(materias)\n",
        "materias.clear()\n",
        "print(materias)\n",
        "\n",
        "print(\"Slicing\")\n",
        "numeros = [0,1,2,3,4,5,6,7,8,9,10]\n",
        "print(numeros)\n",
        "print(numeros[4:9:1])\n",
        "print(numeros[4::1])\n",
        "#print(numeros[])\n",
        "\n"
      ],
      "execution_count": 18,
      "outputs": [
        {
          "output_type": "stream",
          "text": [
            "['CyP', 'DAA', 'EDD', 'IS', 'POO']\n",
            "EDD\n",
            "POO\n",
            "['POO', 'IS', 'EDD', 'DAA', 'CyP']\n",
            "['5', 'octubre', '2020']\n",
            "15:22:45\n",
            "-----------------------------\n",
            "['CyP', 'DAA', 'EDD', 'IS', 'POO']\n",
            "['5', 'octubre', '2020']\n",
            "['15', '22', '45']\n",
            "['CyP', 'DAA', 'EDD', 'IS', 'POO', 'calidad']\n",
            "['CyP', 'DAA', 'Emprendimiento', 'EDD', 'IS', 'POO', 'calidad']\n",
            "calidad\n",
            "['CyP', 'DAA', 'Emprendimiento', 'EDD', 'IS', 'POO']\n",
            "[]\n",
            "Slicing\n",
            "[0, 1, 2, 3, 4, 5, 6, 7, 8, 9, 10]\n"
          ],
          "name": "stdout"
        }
      ]
    },
    {
      "cell_type": "markdown",
      "metadata": {
        "id": "0sBL02YXiNhW"
      },
      "source": [
        ""
      ]
    },
    {
      "cell_type": "code",
      "metadata": {
        "id": "Wj3uqejyiOFb"
      },
      "source": [
        "autos = ['Mazda', 'Honda', 'Akura', 'Ford', 'VW']\n",
        "telefonos = ['iPhone', 'Huawei Mate 30', 'Xiaomi S10','Alcatel t1000']\n",
        "sistemas_operativos = ['Windows', 'Linux', 'Android', 'iOS', 'MacOs']\n",
        "\n",
        "lista_2d = [autos,telefonos,sistemas_operativos]\n",
        "print(lista_2d)\n",
        "print(lista_2d[1][1])\n"
      ],
      "execution_count": null,
      "outputs": []
    }
  ]
}