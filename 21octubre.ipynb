{
  "nbformat": 4,
  "nbformat_minor": 0,
  "metadata": {
    "colab": {
      "name": "21octubre.ipynb",
      "provenance": [],
      "collapsed_sections": [],
      "authorship_tag": "ABX9TyMFpRo9LHmZR6uW4zprYuml",
      "include_colab_link": true
    },
    "kernelspec": {
      "name": "python3",
      "display_name": "Python 3"
    }
  },
  "cells": [
    {
      "cell_type": "markdown",
      "metadata": {
        "id": "view-in-github",
        "colab_type": "text"
      },
      "source": [
        "<a href=\"https://colab.research.google.com/github/danieljobvaladezelguera/edd1358_2021/blob/master/21octubre.ipynb\" target=\"_parent\"><img src=\"https://colab.research.google.com/assets/colab-badge.svg\" alt=\"Open In Colab\"/></a>"
      ]
    },
    {
      "cell_type": "code",
      "metadata": {
        "id": "5Wa5WNZ6t8vo",
        "outputId": "7460a5d3-8b78-43a8-d73c-c9f2db9e66c6",
        "colab": {
          "base_uri": "https://localhost:8080/",
          "height": 68
        }
      },
      "source": [
        "class SmartPhone:\n",
        "  def __init__(self,m):\n",
        "    self.__marca = m\n",
        "\n",
        "  def set_marca(self,m):\n",
        "    self.__marca = m\n",
        "\n",
        "  def get_marca(self):\n",
        "    return self.__marca\n",
        "\n",
        "  def to_string(self):\n",
        "    return \"La marca del teléfono es: \" + self.__marca\n",
        "\n",
        "\n",
        "sp1 = SmartPhone(\" Huawei \")\n",
        "print(sp1.to_string())\n",
        "sp1.__marca = \"iPhone X\"\n",
        "print(sp1.to_string())\n",
        "sp1.set_marca(\"Samsung\")\n",
        "print(sp1.get_marca())\n",
        "\n",
        "\n",
        "\n"
      ],
      "execution_count": 5,
      "outputs": [
        {
          "output_type": "stream",
          "text": [
            "La marca del teléfono es:  Huawei \n",
            "La marca del teléfono es:  Huawei \n",
            "Samsung\n"
          ],
          "name": "stdout"
        }
      ]
    },
    {
      "cell_type": "code",
      "metadata": {
        "id": "cUuqEYB_xch3",
        "outputId": "bc07b853-7142-46e0-d361-4e571b30c045",
        "colab": {
          "base_uri": "https://localhost:8080/",
          "height": 51
        }
      },
      "source": [
        "#Estilo Python 3\n",
        "\n",
        "class Smartphone:\n",
        "  def __init__(self,m):\n",
        "    self.marca = m\n",
        "    \n",
        "  @property\n",
        "  def marca (self):\n",
        "    return self.__marca\n",
        "\n",
        "    @marca.setter\n",
        "    def marca(self,m):\n",
        "      self.__marca\n",
        "\n",
        "    def to_string(self):\n",
        "      return \"Marca = \" + self.__marca\n",
        "\n",
        "\n",
        "sp2 = SmartPhone(\"Xiaomi\")\n",
        "print(sp2.to_string())\n",
        "sp2.__marca = \"iPhone SE\"\n",
        "print(sp2.to_string())"
      ],
      "execution_count": 7,
      "outputs": [
        {
          "output_type": "stream",
          "text": [
            "La marca del teléfono es: Xiaomi\n",
            "La marca del teléfono es: Xiaomi\n"
          ],
          "name": "stdout"
        }
      ]
    },
    {
      "cell_type": "code",
      "metadata": {
        "id": "d1QQ4UZb5XPd",
        "outputId": "25b379af-a171-4078-83a0-c723483b179e",
        "colab": {
          "base_uri": "https://localhost:8080/",
          "height": 71
        }
      },
      "source": [
        "class TelefonoTrabajo(SmartPhone):\n",
        "  def __init__(self,m):\n",
        "    self.marca = m\n",
        "\n",
        "sp3 = TelefonoTrabajo(\"Motorola\")\n",
        "print(dir(sp3))\n",
        "print(sp3.to_string)"
      ],
      "execution_count": 10,
      "outputs": [
        {
          "output_type": "stream",
          "text": [
            "['__class__', '__delattr__', '__dict__', '__dir__', '__doc__', '__eq__', '__format__', '__ge__', '__getattribute__', '__gt__', '__hash__', '__init__', '__init_subclass__', '__le__', '__lt__', '__module__', '__ne__', '__new__', '__reduce__', '__reduce_ex__', '__repr__', '__setattr__', '__sizeof__', '__str__', '__subclasshook__', '__weakref__', 'get_marca', 'marca', 'set_marca', 'to_string']\n",
            "<bound method SmartPhone.to_string of <__main__.TelefonoTrabajo object at 0x7f677ef18048>>\n"
          ],
          "name": "stdout"
        }
      ]
    }
  ]
}