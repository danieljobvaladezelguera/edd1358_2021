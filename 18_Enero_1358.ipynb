{
  "nbformat": 4,
  "nbformat_minor": 0,
  "metadata": {
    "colab": {
      "name": "18_Enero_1358.ipynb",
      "provenance": [],
      "collapsed_sections": [],
      "authorship_tag": "ABX9TyO3HKomUHvck2nyr29iGI4Q",
      "include_colab_link": true
    },
    "kernelspec": {
      "name": "python3",
      "display_name": "Python 3"
    }
  },
  "cells": [
    {
      "cell_type": "markdown",
      "metadata": {
        "id": "view-in-github",
        "colab_type": "text"
      },
      "source": [
        "<a href=\"https://colab.research.google.com/github/danieljobvaladezelguera/edd1358_2021/blob/master/18_Enero_1358.ipynb\" target=\"_parent\"><img src=\"https://colab.research.google.com/assets/colab-badge.svg\" alt=\"Open In Colab\"/></a>"
      ]
    },
    {
      "cell_type": "code",
      "metadata": {
        "id": "YARKOXlXVUqg"
      },
      "source": [
        "class NodoArbol:\r\n",
        "  def __init__(self, value, left= None, right=None):\r\n",
        "    self.data = value\r\n",
        "    self.left = left\r\n",
        "    self.right = right\r\n"
      ],
      "execution_count": null,
      "outputs": []
    },
    {
      "cell_type": "code",
      "metadata": {
        "id": "pCnG7ltAWzP8"
      },
      "source": [
        "class ArbolBinarioBusqueda:\r\n",
        "  def __init__(self):\r\n",
        "    self.__root = None\r\n",
        "  \r\n",
        "  def insert(self, value):\r\n",
        "    if self.__root == None:\r\n",
        "      self.__root = NodoArbol(value)\r\n",
        "    else:\r\n",
        "      self.__insert__(self.__root, value)\r\n",
        "\r\n",
        "\r\n",
        "  def __insert__(self, nodo, value): #recursividad\r\n",
        "    if nodo.data == value:\r\n",
        "      print(\"El nodo ya existe, no se inserta: \", value)\r\n",
        "\r\n",
        "    elif value < nodo.data:\r\n",
        "      #ir a la izquierda\r\n",
        "      if nodo.left ==None:\r\n",
        "        nodo.left = NodoArbol(value)\r\n",
        "      else:\r\n",
        "        self.__insert__(nodo.left, value)\r\n",
        "    else:\r\n",
        "      if nodo.right == None:\r\n",
        "        nodo.right = NodoArbol(value, None, None)\r\n",
        "      else:\r\n",
        "        self.__insert__(nodo.right, value)\r\n",
        "    \r\n",
        "    def transversal(self, format=\"in\"): #in,pos,pre\r\n",
        "      if format==\"in\":\r\n",
        "        self.__recorrido_in(self.__root)\r\n",
        "      elif format ==\"pre\":\r\n",
        "        print(\"Recorrido en pre orden\")\r\n",
        "      elif format == \"pos\":\r\n",
        "        print(\"Recorrido en pos orden\")\r\n",
        "      else:\r\n",
        "        print(\"Formato no válido\")\r\n",
        "\r\n",
        "    def __recorrido__in(self, nodo):\r\n",
        "      if nodo ==None:\r\n",
        "        print(\"Casobase\")\r\n",
        "      else:\r\n",
        "        self:__recorrido__in(nodo.left)\r\n",
        "        print(nodo.data, end=\",\")\r\n",
        "        self:__recorrido__in(nodo.right)\r\n",
        "\r\n",
        "    def __recorrido__pos(self, nodo):\r\n",
        "      if nodo ==None:\r\n",
        "        print(\"Casobase\")\r\n",
        "      else:\r\n",
        "        self:__recorrido__in(nodo.left)\r\n",
        "        print(nodo.data, end=\",\")\r\n",
        "        self:__recorrido__in(nodo.right)\r\n",
        "    \r\n",
        "    def __recorrido__pre(self, nodo):\r\n",
        "      if nodo ==None:\r\n",
        "        print(\"Casobase\")\r\n",
        "      else:\r\n",
        "        self:__recorrido__in(nodo.left)\r\n",
        "        print(nodo.data, end=\",\")\r\n",
        "        self:__recorrido__in(nodo.right)\r\n",
        "\r\n",
        "    def __search(self,value):\r\n",
        "      if self.__root == None:\r\n",
        "        return None\r\n",
        "      elif nodo.data == value:\r\n",
        "        return nodo \r\n",
        "      elif value < nodo.data:\r\n",
        "        return self.__search(nodo.left, value)\r\n",
        "      else:\r\n",
        "        return self.__search(nodo.right, value)\r\n",
        "    \r\n",
        "    def search(self,value):\r\n",
        "      if self.__root ==None:\r\n",
        "        print(\"Árbol vacío\")\r\n",
        "      else:\r\n",
        "        return self.__search(self.__root, value)\r\n",
        "    def remove (self, value):\r\n",
        "      if self.root ==None:\r\n",
        "        print(\"Arbol vacío\")\r\n",
        "      else:\r\n",
        "        self.__remove(None, None, self.__root, value)\r\n",
        "\r\n",
        "    def __remove(self, padre_hi, padre_hd, actual, value):\r\n",
        "      if actaul ==None:\r\n",
        "         print(\"Caso base\")\r\n",
        "         return None\r\n",
        "      elif actual.data == value:\r\n",
        "        print(\"\\Encontrado\", actual.data)\r\n",
        "          if actual.left == None and actual.right == None:\r\n",
        "            if padre_hi != None:\r\n",
        "              padre_hi.left = None\r\n",
        "            else:\r\n",
        "              padre_hd.right = None\r\n",
        "\r\n",
        "          elif (actaul.left != None and actual.right == None) or (actual.left ==):\r\n",
        "            if actaul.left != None:\r\n",
        "              aux = actual.left\r\n",
        "              actual.left = None\r\n",
        "              actual = aux\r\n",
        "            else:\r\n",
        "              print(\"Hijo a la derecha\", actual.right)\r\n",
        "              aux = actual.right\r\n",
        "              actual.right = None\r\n",
        "              actual = aux\r\n",
        "\r\n",
        "\r\n",
        "        return actual\r\n",
        "      elif value < actual.dada:\r\n",
        "        self.__remove(actual, None, actual.left, value)\r\n",
        "      else:\r\n",
        "        self.__remove(None, actual, actual.right, value)"
      ],
      "execution_count": 3,
      "outputs": []
    },
    {
      "cell_type": "code",
      "metadata": {
        "id": "0jpEsYvNZy0Z"
      },
      "source": [
        ""
      ],
      "execution_count": null,
      "outputs": []
    },
    {
      "cell_type": "code",
      "metadata": {
        "id": "sR4jgznkdIo2",
        "colab": {
          "base_uri": "https://localhost:8080/",
          "height": 350
        },
        "outputId": "abcb9c06-3271-45b7-c1bb-a9e4ac0b063c"
      },
      "source": [
        "abb = ArbolBinarioBusqueda()\r\n",
        "\r\n",
        "abb.insert(40)\r\n",
        "abb.insert(30)\r\n",
        "abb.insert(20)\r\n",
        "abb.transversal()\r\n",
        "abb.transversal(\"pre\")\r\n",
        "abb.transversal(\"pos\")\r\n",
        "res = abb.search(70)\r\n",
        "abb.remove(70)"
      ],
      "execution_count": 4,
      "outputs": [
        {
          "output_type": "error",
          "ename": "NameError",
          "evalue": "ignored",
          "traceback": [
            "\u001b[0;31m---------------------------------------------------------------------------\u001b[0m",
            "\u001b[0;31mNameError\u001b[0m                                 Traceback (most recent call last)",
            "\u001b[0;32m<ipython-input-4-a07e2e6ae284>\u001b[0m in \u001b[0;36m<module>\u001b[0;34m()\u001b[0m\n\u001b[1;32m      1\u001b[0m \u001b[0mabb\u001b[0m \u001b[0;34m=\u001b[0m \u001b[0mArbolBinarioBusqueda\u001b[0m\u001b[0;34m(\u001b[0m\u001b[0;34m)\u001b[0m\u001b[0;34m\u001b[0m\u001b[0;34m\u001b[0m\u001b[0m\n\u001b[1;32m      2\u001b[0m \u001b[0;34m\u001b[0m\u001b[0m\n\u001b[0;32m----> 3\u001b[0;31m \u001b[0mabb\u001b[0m\u001b[0;34m.\u001b[0m\u001b[0minsert\u001b[0m\u001b[0;34m(\u001b[0m\u001b[0;36m40\u001b[0m\u001b[0;34m)\u001b[0m\u001b[0;34m\u001b[0m\u001b[0;34m\u001b[0m\u001b[0m\n\u001b[0m\u001b[1;32m      4\u001b[0m \u001b[0mabb\u001b[0m\u001b[0;34m.\u001b[0m\u001b[0minsert\u001b[0m\u001b[0;34m(\u001b[0m\u001b[0;36m30\u001b[0m\u001b[0;34m)\u001b[0m\u001b[0;34m\u001b[0m\u001b[0;34m\u001b[0m\u001b[0m\n\u001b[1;32m      5\u001b[0m \u001b[0mabb\u001b[0m\u001b[0;34m.\u001b[0m\u001b[0minsert\u001b[0m\u001b[0;34m(\u001b[0m\u001b[0;36m20\u001b[0m\u001b[0;34m)\u001b[0m\u001b[0;34m\u001b[0m\u001b[0;34m\u001b[0m\u001b[0m\n",
            "\u001b[0;32m<ipython-input-3-d905811f3531>\u001b[0m in \u001b[0;36minsert\u001b[0;34m(self, value)\u001b[0m\n\u001b[1;32m      5\u001b[0m   \u001b[0;32mdef\u001b[0m \u001b[0minsert\u001b[0m\u001b[0;34m(\u001b[0m\u001b[0mself\u001b[0m\u001b[0;34m,\u001b[0m \u001b[0mvalue\u001b[0m\u001b[0;34m)\u001b[0m\u001b[0;34m:\u001b[0m\u001b[0;34m\u001b[0m\u001b[0;34m\u001b[0m\u001b[0m\n\u001b[1;32m      6\u001b[0m     \u001b[0;32mif\u001b[0m \u001b[0mself\u001b[0m\u001b[0;34m.\u001b[0m\u001b[0m__root\u001b[0m \u001b[0;34m==\u001b[0m \u001b[0;32mNone\u001b[0m\u001b[0;34m:\u001b[0m\u001b[0;34m\u001b[0m\u001b[0;34m\u001b[0m\u001b[0m\n\u001b[0;32m----> 7\u001b[0;31m       \u001b[0mself\u001b[0m\u001b[0;34m.\u001b[0m\u001b[0m__root\u001b[0m \u001b[0;34m=\u001b[0m \u001b[0mNodoArbol\u001b[0m\u001b[0;34m(\u001b[0m\u001b[0mvalue\u001b[0m\u001b[0;34m)\u001b[0m\u001b[0;34m\u001b[0m\u001b[0;34m\u001b[0m\u001b[0m\n\u001b[0m\u001b[1;32m      8\u001b[0m     \u001b[0;32melse\u001b[0m\u001b[0;34m:\u001b[0m\u001b[0;34m\u001b[0m\u001b[0;34m\u001b[0m\u001b[0m\n\u001b[1;32m      9\u001b[0m       \u001b[0mself\u001b[0m\u001b[0;34m.\u001b[0m\u001b[0m__insert__\u001b[0m\u001b[0;34m(\u001b[0m\u001b[0mself\u001b[0m\u001b[0;34m.\u001b[0m\u001b[0m__root\u001b[0m\u001b[0;34m,\u001b[0m \u001b[0mvalue\u001b[0m\u001b[0;34m)\u001b[0m\u001b[0;34m\u001b[0m\u001b[0;34m\u001b[0m\u001b[0m\n",
            "\u001b[0;31mNameError\u001b[0m: name 'NodoArbol' is not defined"
          ]
        }
      ]
    }
  ]
}