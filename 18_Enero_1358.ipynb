{
  "nbformat": 4,
  "nbformat_minor": 0,
  "metadata": {
    "colab": {
      "name": "18_Enero_1358.ipynb",
      "provenance": [],
      "collapsed_sections": [],
      "authorship_tag": "ABX9TyP3WSMaF+Iml5+opKOjgJbv",
      "include_colab_link": true
    },
    "kernelspec": {
      "name": "python3",
      "display_name": "Python 3"
    }
  },
  "cells": [
    {
      "cell_type": "markdown",
      "metadata": {
        "id": "view-in-github",
        "colab_type": "text"
      },
      "source": [
        "<a href=\"https://colab.research.google.com/github/danieljobvaladezelguera/edd1358_2021/blob/master/18_Enero_1358.ipynb\" target=\"_parent\"><img src=\"https://colab.research.google.com/assets/colab-badge.svg\" alt=\"Open In Colab\"/></a>"
      ]
    },
    {
      "cell_type": "code",
      "metadata": {
        "id": "YARKOXlXVUqg"
      },
      "source": [
        "class NodoArbol:\r\n",
        "  def __init__(self, value, left= None, right=None):\r\n",
        "    self.data = value\r\n",
        "    self.left = left\r\n",
        "    self.right = right\r\n"
      ],
      "execution_count": null,
      "outputs": []
    },
    {
      "cell_type": "code",
      "metadata": {
        "id": "pCnG7ltAWzP8"
      },
      "source": [
        "class ArbolBinarioBusqueda:\r\n",
        "  def __init__(self):\r\n",
        "    self.__root = None\r\n",
        "  \r\n",
        "  def insert(self, value):\r\n",
        "    if self.__root == None:\r\n",
        "      self.__root = NodoArbol(value)\r\n",
        "    else:\r\n",
        "      self.__insert__(self.__root, value)\r\n",
        "\r\n",
        "\r\n",
        "  def __insert__(self, nodo, value): #recursividad\r\n",
        "    if nodo.data == value:\r\n",
        "      print(\"El nodo ya existe, no se inserta: \", value)\r\n",
        "\r\n",
        "    elif value < nodo.data:\r\n",
        "      #ir a la izquierda\r\n",
        "      if nodo.left ==None:\r\n",
        "        nodo.left = NodoArbol(value)\r\n",
        "      else:\r\n",
        "        self.__insert__(nodo.left, value)\r\n",
        "    else:\r\n",
        "      if nodo.right == None:\r\n",
        "        nodo.right = NodoArbol(value, None, None)\r\n",
        "      else:\r\n",
        "        self.__insert__(nodo.right, value)\r\n",
        "    \r\n",
        "    def transversal(self, format=\"in\"): #in,pos,pre\r\n",
        "      if format==\"in\":\r\n",
        "        self.__recorrido_in(self.__root)\r\n",
        "      elif format ==\"pre\":\r\n",
        "        print(\"Recorrido en pre orden\")\r\n",
        "      elif format == \"pos\":\r\n",
        "        print(\"Recorrido en pos orden\")\r\n",
        "      else:\r\n",
        "        print(\"Formato no válido\")\r\n",
        "\r\n",
        "    def __recorrido__in(self, nodo):\r\n",
        "      if nodo ==None:\r\n",
        "        print(\"Casobase\")\r\n",
        "      else:\r\n",
        "        self:__recorrido__in(nodo.left)\r\n",
        "        print(nodo.data, end=\",\")\r\n",
        "        self:__recorrido__in(nodo.right)\r\n",
        "\r\n",
        "    def __recorrido__pos(self, nodo):\r\n",
        "      if nodo ==None:\r\n",
        "        print(\"Casobase\")\r\n",
        "      else:\r\n",
        "        self:__recorrido__in(nodo.left)\r\n",
        "        print(nodo.data, end=\",\")\r\n",
        "        self:__recorrido__in(nodo.right)\r\n",
        "    \r\n",
        "    def __recorrido__pre(self, nodo):\r\n",
        "      if nodo ==None:\r\n",
        "        print(\"Casobase\")\r\n",
        "      else:\r\n",
        "        self:__recorrido__in(nodo.left)\r\n",
        "        print(nodo.data, end=\",\")\r\n",
        "        self:__recorrido__in(nodo.right)\r\n",
        "\r\n",
        "    def __search(self,value):\r\n",
        "      if self.__root == None:\r\n",
        "        return None\r\n",
        "      elif nodo.data == value:\r\n",
        "        return nodo \r\n",
        "      elif value < nodo.data:\r\n",
        "        return self.__search(nodo.left, value)\r\n",
        "      else:\r\n",
        "        return self.__search(nodo.right, value)\r\n",
        "    \r\n",
        "    def search(self,value):\r\n",
        "      if self.__root ==None:\r\n",
        "        print(\"Árbol vacío\")\r\n",
        "      else:\r\n",
        "        return self.__search(self.__root, value)\r\n"
      ],
      "execution_count": 1,
      "outputs": []
    },
    {
      "cell_type": "code",
      "metadata": {
        "id": "sR4jgznkdIo2"
      },
      "source": [
        "abb = ArbolBinarioBusqueda()\r\n",
        "\r\n",
        "abb.insert(40)\r\n",
        "abb.insert(30)\r\n",
        "abb.insert(20)\r\n",
        "abb.transversal()\r\n",
        "abb.transversal(\"pre\")\r\n",
        "abb.transversal(\"pos\")\r\n"
      ],
      "execution_count": null,
      "outputs": []
    }
  ]
}