{
  "nbformat": 4,
  "nbformat_minor": 0,
  "metadata": {
    "colab": {
      "name": "11_enero_1358.ipynb",
      "provenance": [],
      "collapsed_sections": [],
      "authorship_tag": "ABX9TyPUoV673w34AT5P/00yO+Wu",
      "include_colab_link": true
    },
    "kernelspec": {
      "name": "python3",
      "display_name": "Python 3"
    }
  },
  "cells": [
    {
      "cell_type": "markdown",
      "metadata": {
        "id": "view-in-github",
        "colab_type": "text"
      },
      "source": [
        "<a href=\"https://colab.research.google.com/github/danieljobvaladezelguera/edd1358_2021/blob/master/11_enero_1358.ipynb\" target=\"_parent\"><img src=\"https://colab.research.google.com/assets/colab-badge.svg\" alt=\"Open In Colab\"/></a>"
      ]
    },
    {
      "cell_type": "code",
      "metadata": {
        "id": "rSRXHdjPOvP4"
      },
      "source": [
        "class NodoArbol:\r\n",
        "  def __init__(self, dato, hijo_izq=None, hijo_der=None):\r\n",
        "    self.dato = dato\r\n",
        "    self.hijo_izq = hijo_izq\r\n",
        "    self.hijo_der = hijo_der\r\n",
        "\r\n"
      ],
      "execution_count": 5,
      "outputs": []
    },
    {
      "cell_type": "code",
      "metadata": {
        "id": "0rEU1KstRPKn"
      },
      "source": [
        "arbol = NodoArbol(\"R\")\r\n",
        "arbol.hijo_izq = NodoArbol(\"C\")\r\n",
        "arbol.hijo_der = NodoArbol(\"H\")\r\n",
        "\r\n",
        "print(arbol.dato)\r\n",
        "print(arbol.hijo_der.dato)\r\n",
        "print(arbol.hijo_izq.dato)\r\n"
      ],
      "execution_count": null,
      "outputs": []
    },
    {
      "cell_type": "code",
      "metadata": {
        "colab": {
          "base_uri": "https://localhost:8080/"
        },
        "id": "MLDkW9J3S09i",
        "outputId": "a6893df6-732c-4a43-beab-1f6d19576d22"
      },
      "source": [
        "arbol_v2 = NodoArbol(\"R\", NodoArbol(\"C\"), NodoArbol(\"H\"))\r\n",
        "\r\n",
        "print(arbol_v2.dato)\r\n",
        "print(arbol_v2.hijo_izq.dato)\r\n",
        "print(arbol_v2.hijo_der.dato)\r\n"
      ],
      "execution_count": 8,
      "outputs": [
        {
          "output_type": "stream",
          "text": [
            "R\n",
            "C\n",
            "H\n"
          ],
          "name": "stdout"
        }
      ]
    },
    {
      "cell_type": "code",
      "metadata": {
        "colab": {
          "base_uri": "https://localhost:8080/"
        },
        "id": "EV-AIOVeTZdi",
        "outputId": "611bee2e-4d00-495a-e864-de39ba6b838f"
      },
      "source": [
        "#ejercicio 2\r\n",
        "arbol2 = NodoArbol(\"4\", NodoArbol(\"3\", NodoArbol(\"2\", NodoArbol(\"1\"))), NodoArbol(\"5\"))\r\n",
        "print(arbol2.dato)\r\n",
        "print(arbol2.hijo_izq.dato)\r\n",
        "print(arbol2.hijo_der.dato)\r\n",
        "print(arbol2.hijo_izq.hijo_izq.dato)\r\n",
        "print(arbol2.hijo_izq.hijo_izq.hijo_izq.dato)\r\n",
        "print(\"###########################\")\r\n",
        "print(arbol2.hijo_izq.hijo_izq.hijo_izq.dato)\r\n",
        "\r\n",
        "aux = arbol2\r\n",
        "while aux.hijo_izq != None:\r\n",
        "  aux = aux.hijo_izq\r\n",
        "print(aux.dato)"
      ],
      "execution_count": 12,
      "outputs": [
        {
          "output_type": "stream",
          "text": [
            "4\n",
            "3\n",
            "5\n",
            "2\n",
            "1\n",
            "###########################\n",
            "1\n",
            "1\n"
          ],
          "name": "stdout"
        }
      ]
    },
    {
      "cell_type": "code",
      "metadata": {
        "colab": {
          "base_uri": "https://localhost:8080/",
          "height": 129
        },
        "id": "BzsUzPPGaIaY",
        "outputId": "44de5935-a031-49fe-9e92-1026d175a577"
      },
      "source": [
        "class NodoArbol1:\r\n",
        "  def __init__(self, dato, hijo_izq = None,hijo_centro = None, hijo_der = Nonehijo_3 = None):\r\n",
        "    self.dato = dato\r\n",
        "    self.hijo_izq = hijo_izq\r\n",
        "    self.hijo_der = hijo_der \r\n",
        "    self.hijo_centro = hijo_centro\r\n",
        "    self.tercer_hijo = hijo_3\r\n",
        "\r\n",
        "arbol3= NodoArbol1(\"R\", NodoArbol1(\"I\",None,\"X\",None),NodoArbol1(\"C\",\"Y\",None,None),NodoArbol1(\"D\",None,None \"Z\"))"
      ],
      "execution_count": 14,
      "outputs": [
        {
          "output_type": "error",
          "ename": "SyntaxError",
          "evalue": "ignored",
          "traceback": [
            "\u001b[0;36m  File \u001b[0;32m\"<ipython-input-14-17435a73bf7a>\"\u001b[0;36m, line \u001b[0;32m2\u001b[0m\n\u001b[0;31m    def __init__(self, dato, hijo_izq = None,hijo_centro = None, hijo_der = Nonehijo_3 = None):\u001b[0m\n\u001b[0m                                                                                       ^\u001b[0m\n\u001b[0;31mSyntaxError\u001b[0m\u001b[0;31m:\u001b[0m invalid syntax\n"
          ]
        }
      ]
    }
  ]
}