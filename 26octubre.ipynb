{
  "nbformat": 4,
  "nbformat_minor": 0,
  "metadata": {
    "colab": {
      "name": "26octubre.ipynb",
      "provenance": [],
      "authorship_tag": "ABX9TyNJF3ZMbX2/qA+qxwzQAt1G",
      "include_colab_link": true
    },
    "kernelspec": {
      "name": "python3",
      "display_name": "Python 3"
    }
  },
  "cells": [
    {
      "cell_type": "markdown",
      "metadata": {
        "id": "view-in-github",
        "colab_type": "text"
      },
      "source": [
        "<a href=\"https://colab.research.google.com/github/danieljobvaladezelguera/edd1358_2021/blob/master/26octubre.ipynb\" target=\"_parent\"><img src=\"https://colab.research.google.com/assets/colab-badge.svg\" alt=\"Open In Colab\"/></a>"
      ]
    },
    {
      "cell_type": "code",
      "metadata": {
        "id": "Yf5n3z-4niql",
        "outputId": "2af7665d-5356-428b-f074-60ae8b852b7e",
        "colab": {
          "base_uri": "https://localhost:8080/"
        }
      },
      "source": [
        "class Array:\n",
        "  def __init__(self, tam):\n",
        "    self.__datos = [0 for x in range(tam)]\n",
        "\n",
        "  def get_item(self,index):\n",
        "    dato = 0\n",
        "    if index >= 0 and index <= len(self.__datos):\n",
        "      dato = self.__datos[index]\n",
        "    else: \n",
        "      print(\"Error en el indice\")\n",
        "    return dato\n",
        "\n",
        "  def set_item(self, dato, index):\n",
        "    if index >= 0 and index < len(self.__datos):\n",
        "      self.__datos[index] = dato\n",
        "    else:\n",
        "      print(\"Error en el indice\")\n",
        "\n",
        "  def getIterator( self ):\n",
        "        return _getIterator( self.__datos )\n",
        "\n",
        "class _getIterator:\n",
        "    def __init__( self , arreglo ):\n",
        "        self.__arreglo = arreglo\n",
        "        self.__indice_actual = 0\n",
        "\n",
        "    def __iter__( self ):\n",
        "        return self\n",
        "\n",
        "    def __next__( self  ):\n",
        "        if self.__indice_actual < len(self.__arreglo):\n",
        "            dato = self.__arreglo[self.__indice_actual]\n",
        "            self.__indice_actual +=1\n",
        "            return dato\n",
        "        else:\n",
        "            raise StopIteration\n",
        "\n",
        "mi_arreglo = Array(10)\n",
        "print(mi_arreglo.get_item(20))\n",
        "mi_arreglo.set_item\n",
        "print(mi_arreglo.get_item(20))\n",
        "\n",
        "\n",
        "for x in mi_arreglo.getIterator():\n",
        "  print(x)"
      ],
      "execution_count": 12,
      "outputs": [
        {
          "output_type": "stream",
          "text": [
            "Error en el indice\n",
            "0\n",
            "Error en el indice\n",
            "0\n",
            "0\n",
            "0\n",
            "0\n",
            "0\n",
            "0\n",
            "0\n",
            "0\n",
            "0\n",
            "0\n",
            "0\n"
          ],
          "name": "stdout"
        }
      ]
    }
  ]
}