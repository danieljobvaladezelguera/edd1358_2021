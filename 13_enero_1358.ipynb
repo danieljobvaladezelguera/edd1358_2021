{
  "nbformat": 4,
  "nbformat_minor": 0,
  "metadata": {
    "colab": {
      "name": "13_enero_1358.ipynb",
      "provenance": [],
      "collapsed_sections": [],
      "authorship_tag": "ABX9TyM0vSSj1peOQurWH7fCawTD",
      "include_colab_link": true
    },
    "kernelspec": {
      "name": "python3",
      "display_name": "Python 3"
    }
  },
  "cells": [
    {
      "cell_type": "markdown",
      "metadata": {
        "id": "view-in-github",
        "colab_type": "text"
      },
      "source": [
        "<a href=\"https://colab.research.google.com/github/danieljobvaladezelguera/edd1358_2021/blob/master/13_enero_1358.ipynb\" target=\"_parent\"><img src=\"https://colab.research.google.com/assets/colab-badge.svg\" alt=\"Open In Colab\"/></a>"
      ]
    },
    {
      "cell_type": "code",
      "metadata": {
        "colab": {
          "base_uri": "https://localhost:8080/"
        },
        "id": "H_wI0dhkrOAk",
        "outputId": "9c0804c7-0af0-42b3-83a8-ed45a618db85"
      },
      "source": [
        "def fibonnaci(n):\r\n",
        "  if n == 0 or n == 1:\r\n",
        "    return n\r\n",
        "  else:\r\n",
        "    return (fibonnaci(n-1) + fibonnaci(n-2))\r\n",
        "for n in range(10):\r\n",
        "  print(fibonnaci(n))\r\n"
      ],
      "execution_count": null,
      "outputs": [
        {
          "output_type": "stream",
          "text": [
            "0\n",
            "1\n",
            "1\n",
            "2\n",
            "3\n",
            "5\n",
            "8\n",
            "13\n",
            "21\n",
            "34\n"
          ],
          "name": "stdout"
        }
      ]
    },
    {
      "cell_type": "code",
      "metadata": {
        "colab": {
          "base_uri": "https://localhost:8080/"
        },
        "id": "KxsB8s-JjisL",
        "outputId": "0c29e4d5-0e97-4b34-9ca0-941a21494401"
      },
      "source": [
        "def factorial(n):\r\n",
        "  if n ==0:\r\n",
        "    return 1\r\n",
        "  else:\r\n",
        "    return factorial(n-1)*n\r\n",
        "\r\n",
        "    \r\n",
        "for num in range(21):\r\n",
        "  print(factorial(num))"
      ],
      "execution_count": null,
      "outputs": [
        {
          "output_type": "stream",
          "text": [
            "1\n",
            "1\n",
            "2\n",
            "6\n",
            "24\n",
            "120\n",
            "720\n",
            "5040\n",
            "40320\n",
            "362880\n",
            "3628800\n",
            "39916800\n",
            "479001600\n",
            "6227020800\n",
            "87178291200\n",
            "1307674368000\n",
            "20922789888000\n",
            "355687428096000\n",
            "6402373705728000\n",
            "121645100408832000\n",
            "2432902008176640000\n"
          ],
          "name": "stdout"
        }
      ]
    },
    {
      "cell_type": "code",
      "metadata": {
        "colab": {
          "base_uri": "https://localhost:8080/"
        },
        "id": "jP9J1DcJm1kz",
        "outputId": "abda0b04-8c76-4b0f-9c76-ffee70802a29"
      },
      "source": [
        "def printRev(n):\r\n",
        "  if n > 0:\r\n",
        "    print( n )\r\n",
        "    printRev(n-1)\r\n",
        "printRev(3)"
      ],
      "execution_count": null,
      "outputs": [
        {
          "output_type": "stream",
          "text": [
            "3\n",
            "2\n",
            "1\n"
          ],
          "name": "stdout"
        }
      ]
    }
  ]
}