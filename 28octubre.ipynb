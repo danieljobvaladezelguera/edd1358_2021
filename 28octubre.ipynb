{
  "nbformat": 4,
  "nbformat_minor": 0,
  "metadata": {
    "colab": {
      "name": "28octubre.ipynb",
      "provenance": [],
      "authorship_tag": "ABX9TyPLIhIQ2IXcQ1JJAE4a2gTj",
      "include_colab_link": true
    },
    "kernelspec": {
      "name": "python3",
      "display_name": "Python 3"
    }
  },
  "cells": [
    {
      "cell_type": "markdown",
      "metadata": {
        "id": "view-in-github",
        "colab_type": "text"
      },
      "source": [
        "<a href=\"https://colab.research.google.com/github/danieljobvaladezelguera/edd1358_2021/blob/master/28octubre.ipynb\" target=\"_parent\"><img src=\"https://colab.research.google.com/assets/colab-badge.svg\" alt=\"Open In Colab\"/></a>"
      ]
    },
    {
      "cell_type": "code",
      "metadata": {
        "id": "HAxmT-71GyUZ",
        "outputId": "90494002-17a2-4b65-a9bf-98e598dda2d2",
        "colab": {
          "base_uri": "https://localhost:8080/"
        }
      },
      "source": [
        "basura = [\"manzana\", \"pera\"]\n",
        "datos = [x.upper() for x in basura]\n",
        "print(datos)\n"
      ],
      "execution_count": 11,
      "outputs": [
        {
          "output_type": "stream",
          "text": [
            "['MANZANA', 'PERA']\n"
          ],
          "name": "stdout"
        }
      ]
    },
    {
      "cell_type": "markdown",
      "metadata": {
        "id": "lFVMZZyzIX4n"
      },
      "source": [
        "[ [0,0,0],\n",
        "  [0,0,0],\n",
        "  [0,0,0],"
      ]
    },
    {
      "cell_type": "code",
      "metadata": {
        "id": "qLzuhSf5I5FP",
        "outputId": "783ca782-b3bb-4604-da36-0146c26648d2",
        "colab": {
          "base_uri": "https://localhost:8080/"
        }
      },
      "source": [
        "ren = 4\n",
        "col = 6\n",
        "dos_d =[ [0 for x in range(3)] for x in range(ren)]\n",
        "print(dos_d)"
      ],
      "execution_count": 13,
      "outputs": [
        {
          "output_type": "stream",
          "text": [
            "[[0, 0, 0], [0, 0, 0], [0, 0, 0], [0, 0, 0]]\n"
          ],
          "name": "stdout"
        }
      ]
    }
  ]
}