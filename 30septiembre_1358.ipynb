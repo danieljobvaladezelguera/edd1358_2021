{
  "nbformat": 4,
  "nbformat_minor": 0,
  "metadata": {
    "colab": {
      "name": "30septiembre_1358.ipynb",
      "provenance": [],
      "collapsed_sections": [],
      "authorship_tag": "ABX9TyMf16d4y7d+MKZowmoY5jLD",
      "include_colab_link": true
    },
    "kernelspec": {
      "name": "python3",
      "display_name": "Python 3"
    }
  },
  "cells": [
    {
      "cell_type": "markdown",
      "metadata": {
        "id": "view-in-github",
        "colab_type": "text"
      },
      "source": [
        "<a href=\"https://colab.research.google.com/github/danieljobvaladezelguera/edd1358_2021/blob/master/30septiembre_1358.ipynb\" target=\"_parent\"><img src=\"https://colab.research.google.com/assets/colab-badge.svg\" alt=\"Open In Colab\"/></a>"
      ]
    },
    {
      "cell_type": "code",
      "metadata": {
        "id": "Zr6nJEErp6AM",
        "outputId": "6c37c163-d930-43d3-be46-769e37f1ea7b",
        "colab": {
          "base_uri": "https://localhost:8080/",
          "height": 68
        }
      },
      "source": [
        "#fundamentos python\n",
        "\n",
        "#variables\n",
        "\n",
        "var1 = 13\n",
        "var2 = \"Daniel\" \n",
        "var3 = True\n",
        "\n",
        "if(var3 == True):\n",
        "  print(var1)\n",
        "  print(var2)\n",
        "\n",
        "#Lista ejemplos\n",
        "#Son inmutables\n",
        "\n"
      ],
      "execution_count": 5,
      "outputs": [
        {
          "output_type": "stream",
          "text": [
            "13\n",
            "Daniel\n",
            "False\n"
          ],
          "name": "stdout"
        }
      ]
    },
    {
      "cell_type": "code",
      "metadata": {
        "id": "AZOxpE4pu4hT",
        "outputId": "3aa62dac-3448-4604-f140-9760e6f862ba",
        "colab": {
          "base_uri": "https://localhost:8080/",
          "height": 170
        }
      },
      "source": [
        "\n",
        "ejemploListas = [ \"manzana\", 1.57, False, [\"Rojo\", \"Azul\"] ]\n",
        "print(ejemploListas[2] )\n",
        "print(ejemploListas[3][1])\n",
        "ejemploListas[0] = \"Manzana\"\n",
        "print(ejemploListas[0])\n",
        "ejemploListas.append(\"Iphone\")\n",
        "print(ejemploListas)\n",
        "valor = ejemploListas.pop()\n",
        "print(valor)\n",
        "print(ejemploListas)\n",
        "print(\"---------------\")\n",
        "#print(help(str))\n",
        "ejemploListas.insert(1,\"Huawei\")\n",
        "print(ejemploListas)\n",
        "conteo = ejemploListas.count(False)\n",
        "print(conteo)"
      ],
      "execution_count": 13,
      "outputs": [
        {
          "output_type": "stream",
          "text": [
            "False\n",
            "Azul\n",
            "Manzana\n",
            "['Manzana', 1.57, False, ['Rojo', 'Azul'], 'Iphone']\n",
            "Iphone\n",
            "['Manzana', 1.57, False, ['Rojo', 'Azul']]\n",
            "---------------\n",
            "['Manzana', 'Huawei', 1.57, False, ['Rojo', 'Azul']]\n",
            "1\n"
          ],
          "name": "stdout"
        }
      ]
    },
    {
      "cell_type": "code",
      "metadata": {
        "id": "uclmquK_zGjO",
        "outputId": "7fb24a65-a913-4355-d3ad-1ab6db15a841",
        "colab": {
          "base_uri": "https://localhost:8080/",
          "height": 34
        }
      },
      "source": [
        "colores = [\"rosa\", \"fiusca\", \"negro\"]\n",
        "ejemploListas.append(colores)\n",
        "print(ejemploListas)\n",
        "ejemploListas.extend(colores)"
      ],
      "execution_count": 14,
      "outputs": [
        {
          "output_type": "stream",
          "text": [
            "['Manzana', 'Huawei', 1.57, False, ['Rojo', 'Azul'], ['rosa', 'fiusca', 'negro']]\n"
          ],
          "name": "stdout"
        }
      ]
    },
    {
      "cell_type": "code",
      "metadata": {
        "id": "TnOt1LHDxt1J",
        "outputId": "060a18ba-cfe8-4fd0-ff7e-6a3ab6c17147",
        "colab": {
          "base_uri": "https://localhost:8080/",
          "height": 85
        }
      },
      "source": [
        "valor = ejemploListas.pop()\n",
        "print(valor)\n",
        "print(ejemploListas)\n",
        "print(\"---------------\")\n",
        "#print(help(str))\n",
        "ejemploListas.insert(1,\"Huawei\")\n",
        "print(ejemploListas)"
      ],
      "execution_count": 11,
      "outputs": [
        {
          "output_type": "stream",
          "text": [
            "False\n",
            "['Manzana', 1.57]\n",
            "---------------\n",
            "['Manzana', 'Huawei', 1.57]\n"
          ],
          "name": "stdout"
        }
      ]
    }
  ]
}