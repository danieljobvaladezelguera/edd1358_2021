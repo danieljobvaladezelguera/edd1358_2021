{
  "nbformat": 4,
  "nbformat_minor": 0,
  "metadata": {
    "colab": {
      "name": "2octubre.ipynb",
      "provenance": [],
      "collapsed_sections": [],
      "authorship_tag": "ABX9TyPetZB+Wu+D96zDgkQKrWCr",
      "include_colab_link": true
    },
    "kernelspec": {
      "name": "python3",
      "display_name": "Python 3"
    }
  },
  "cells": [
    {
      "cell_type": "markdown",
      "metadata": {
        "id": "view-in-github",
        "colab_type": "text"
      },
      "source": [
        "<a href=\"https://colab.research.google.com/github/danieljobvaladezelguera/edd1358_2021/blob/master/2octubre.ipynb\" target=\"_parent\"><img src=\"https://colab.research.google.com/assets/colab-badge.svg\" alt=\"Open In Colab\"/></a>"
      ]
    },
    {
      "cell_type": "code",
      "metadata": {
        "id": "RXT6tPBX3NnC",
        "outputId": "908961b9-cc4a-4b8b-8d2a-531028ccb8d4",
        "colab": {
          "base_uri": "https://localhost:8080/",
          "height": 153
        }
      },
      "source": [
        "universidad = \"  universidad    nacional    autonoma    de    mexico\"\n",
        "print(universidad)\n",
        "#se usan '' en un string de 1 palabra\n",
        "carrera = 'ico'\n",
        "area = 'software'\n",
        "#se usan \" \" en un string de + de 1 palabra\n",
        "division = \"división de las ciencias fisico matemáticos\"\n",
        "# se usan \"\"\" cuando es más de 1 oración\n",
        "frase = \"\"\"\n",
        "Si funciona \n",
        "!!!NO LO ARREGLES¡¡¡\n",
        "\"\"\"\n",
        "print(carrera, area)\n",
        "print(division)\n",
        "print(frase)\n",
        "\n"
      ],
      "execution_count": 3,
      "outputs": [
        {
          "output_type": "stream",
          "text": [
            "  universidad    nacional    autonoma    de    mexico\n",
            "ico software\n",
            "división de las ciencias fisico matemáticos\n",
            "\n",
            "Si funciona \n",
            "!!!NO LO ARREGLES¡¡¡\n",
            "\n",
            "Type help() for interactive help, or help(object) for help about object.\n"
          ],
          "name": "stdout"
        }
      ]
    },
    {
      "cell_type": "code",
      "metadata": {
        "id": "0PfNIsoT5xm-",
        "outputId": "3c459b20-f6fa-448b-b090-6b63c875072f",
        "colab": {
          "base_uri": "https://localhost:8080/",
          "height": 370
        }
      },
      "source": [
        "#Poner todo en mayusculas\n",
        "print(universidad.upper())\n",
        "#Normal\n",
        "print(universidad)\n",
        "#Sólo la primera letra es mayúscula\n",
        "print(universidad.strip())\n",
        "#quitar espacios entre palabras\n",
        "lista = universidad.split(\" \")\n",
        "print(lista)\n",
        "nueva = \" \"\n",
        "\n",
        "for l in lista:\n",
        "  if len(l) > 0:\n",
        "    nueva  += l + \" \"\n",
        "\n",
        "print (nueva)\n",
        "\n",
        "\n",
        "numeros = \"1, 2, 3, 4, 5, 6, 7, 8, 9, 10\"\n",
        "separados = numeros.split(\",\")\n",
        "print(separados)\n",
        "\n",
        "numeros_int = []\n",
        "for num in separados:\n",
        "  numeros_int.append( int(num) )\n",
        "\n",
        "print(numeros_int)\n",
        "\n",
        "print(nueva)\n",
        "print(nueva.index(\"a\") )\n",
        "nueva = nueva.strip\n",
        "print(nueva.replace(' ','_' ))\n"
      ],
      "execution_count": 25,
      "outputs": [
        {
          "output_type": "stream",
          "text": [
            "  UNIVERSIDAD    NACIONAL    AUTONOMA    DE    MEXICO\n",
            "  universidad    nacional    autonoma    de    mexico\n",
            "universidad    nacional    autonoma    de    mexico\n",
            "['', '', 'universidad', '', '', '', 'nacional', '', '', '', 'autonoma', '', '', '', 'de', '', '', '', 'mexico']\n",
            " universidad nacional autonoma de mexico \n",
            "['1', ' 2', ' 3', ' 4', ' 5', ' 6', ' 7', ' 8', ' 9', ' 10']\n",
            "[1, 2, 3, 4, 5, 6, 7, 8, 9, 10]\n",
            " universidad nacional autonoma de mexico \n",
            "10\n"
          ],
          "name": "stdout"
        },
        {
          "output_type": "error",
          "ename": "AttributeError",
          "evalue": "ignored",
          "traceback": [
            "\u001b[0;31m---------------------------------------------------------------------------\u001b[0m",
            "\u001b[0;31mAttributeError\u001b[0m                            Traceback (most recent call last)",
            "\u001b[0;32m<ipython-input-25-d935a0a97c52>\u001b[0m in \u001b[0;36m<module>\u001b[0;34m()\u001b[0m\n\u001b[1;32m     30\u001b[0m \u001b[0mprint\u001b[0m\u001b[0;34m(\u001b[0m\u001b[0mnueva\u001b[0m\u001b[0;34m.\u001b[0m\u001b[0mindex\u001b[0m\u001b[0;34m(\u001b[0m\u001b[0;34m\"a\"\u001b[0m\u001b[0;34m)\u001b[0m \u001b[0;34m)\u001b[0m\u001b[0;34m\u001b[0m\u001b[0;34m\u001b[0m\u001b[0m\n\u001b[1;32m     31\u001b[0m \u001b[0mnueva\u001b[0m \u001b[0;34m=\u001b[0m \u001b[0mnueva\u001b[0m\u001b[0;34m.\u001b[0m\u001b[0mstrip\u001b[0m\u001b[0;34m\u001b[0m\u001b[0;34m\u001b[0m\u001b[0m\n\u001b[0;32m---> 32\u001b[0;31m \u001b[0mprint\u001b[0m\u001b[0;34m(\u001b[0m\u001b[0mnueva\u001b[0m\u001b[0;34m.\u001b[0m\u001b[0mreplace\u001b[0m\u001b[0;34m(\u001b[0m\u001b[0;34m' '\u001b[0m\u001b[0;34m,\u001b[0m\u001b[0;34m'_'\u001b[0m \u001b[0;34m)\u001b[0m\u001b[0;34m)\u001b[0m\u001b[0;34m\u001b[0m\u001b[0;34m\u001b[0m\u001b[0m\n\u001b[0m",
            "\u001b[0;31mAttributeError\u001b[0m: 'builtin_function_or_method' object has no attribute 'replace'"
          ]
        }
      ]
    },
    {
      "cell_type": "code",
      "metadata": {
        "id": "3BrPrB_vAgga",
        "outputId": "2b530b5e-d7e4-4fb4-98cc-39ad532d1d8a",
        "colab": {
          "base_uri": "https://localhost:8080/",
          "height": 68
        }
      },
      "source": [
        "#selector de elementos dentro de un String\n",
        "\n",
        "nuevo = \"Universidad Nacional Autonoma de Mexico\"\n",
        "\n",
        "\"\"\"\n",
        "nueva = nueva.strip()\n",
        "print(nueva[0])\n",
        "\n",
        "print(nueva[len (nueva) -1])\n",
        "print(nueva -2)\n",
        "\"\"\"\n",
        "#slicing\n",
        "print(nuevo[12:20:1])\n",
        "print(nuevo[-6: : 1])\n",
        "#UNAM al reves\n",
        "print(nuevo[-1:-7:-1])\n"
      ],
      "execution_count": 29,
      "outputs": [
        {
          "output_type": "stream",
          "text": [
            "Nacional\n",
            "Mexico\n",
            "ocixeM\n"
          ],
          "name": "stdout"
        }
      ]
    },
    {
      "cell_type": "markdown",
      "metadata": {
        "id": "PyvNlPpz3T9a"
      },
      "source": [
        "#Tipos de Datos\n",
        "\n",
        "- String     str\n",
        "- enteros    int\n",
        "- numero fotante float\n",
        "- logico bool\n",
        "- Numero complejo complex\n",
        "- Listas list\n",
        "- Tupplas tuple\n",
        "- Diccionarios dic\n",
        "- Conjuntos set\n",
        "\n"
      ]
    }
  ]
}