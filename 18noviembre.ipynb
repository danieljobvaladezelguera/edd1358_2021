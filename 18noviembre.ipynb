{
  "nbformat": 4,
  "nbformat_minor": 0,
  "metadata": {
    "colab": {
      "name": "18noviembre.ipynb",
      "provenance": [],
      "authorship_tag": "ABX9TyMtOov0DJ9zDdCeOVByUMPQ",
      "include_colab_link": true
    },
    "kernelspec": {
      "name": "python3",
      "display_name": "Python 3"
    }
  },
  "cells": [
    {
      "cell_type": "markdown",
      "metadata": {
        "id": "view-in-github",
        "colab_type": "text"
      },
      "source": [
        "<a href=\"https://colab.research.google.com/github/danieljobvaladezelguera/edd1358_2021/blob/master/18noviembre.ipynb\" target=\"_parent\"><img src=\"https://colab.research.google.com/assets/colab-badge.svg\" alt=\"Open In Colab\"/></a>"
      ]
    },
    {
      "cell_type": "code",
      "metadata": {
        "id": "M7QskxOA4aJK",
        "colab": {
          "base_uri": "https://localhost:8080/"
        },
        "outputId": "79ed3db6-d060-4616-bf91-8226d257f8bb"
      },
      "source": [
        "class Nodo:  \n",
        "  def __init__(self , dato):\n",
        "    self.__dato = dato\n",
        "    self.__siguiente = None\n",
        "\n",
        "  \n",
        "\n",
        "  def get_dato(self):\n",
        "    return self.__dato\n",
        "\n",
        "  def set_dato (self, d):\n",
        "    self.__dato = d\n",
        "\n",
        "  def get_siguiente(self):\n",
        "    return self.__siguiente\n",
        "\n",
        "  def set_siguiente(self,d):\n",
        "    self.__siguiente = d\n",
        "\n",
        "  def to_String(self):\n",
        "    return \"|\" + str(self.__dato)+\"|\" + str(self.__siguiente)+\"| -->\"\n",
        "\n",
        "  def show( self ):\n",
        "        curr_node = self # Head\n",
        "        print(\" Inicio de la estructura ligada:\")\n",
        "        print(\"|\" + str(curr_node.get_dato()) + \"| -->\" , end =\"\" )\n",
        "        while( curr_node.get_siguiente() != None ):\n",
        "            curr_node = curr_node.get_siguiente()\n",
        "            print(\"|\" + str(curr_node.get_dato() ) + \"| -->\" , end =\"\" )\n",
        "        print(\"\\nFin\")\n",
        "        \n",
        "\n",
        "# Ejemplo 1\n",
        "a = Nodo( 10 )\n",
        "a.show()\n",
        "\n",
        "a.set_siguiente(Nodo(20))\n",
        "a.show()\n",
        "\n",
        "a.get_siguiente().set_siguiente(Nodo(30))\n",
        "a.show()\n",
        "\n",
        "a.get_siguiente().get_siguiente().set_siguiente(Nodo(40))\n",
        "a.show()\n",
        "\n",
        "a.get_siguiente().get_siguiente().get_siguiente().set_siguiente(Nodo(50))\n",
        "a.show()"
      ],
      "execution_count": null,
      "outputs": [
        {
          "output_type": "stream",
          "text": [
            " Inicio de la estructura ligada:\n",
            "|10| -->\n",
            "Fin\n",
            " Inicio de la estructura ligada:\n",
            "|10| -->|20| -->\n",
            "Fin\n",
            " Inicio de la estructura ligada:\n",
            "|10| -->|20| -->|30| -->\n",
            "Fin\n",
            " Inicio de la estructura ligada:\n",
            "|10| -->|20| -->|30| -->|40| -->\n",
            "Fin\n",
            " Inicio de la estructura ligada:\n",
            "|10| -->|20| -->|30| -->|40| -->|50| -->\n",
            "Fin\n"
          ],
          "name": "stdout"
        }
      ]
    },
    {
      "cell_type": "code",
      "metadata": {
        "id": "V7cz7cvbOZKa",
        "colab": {
          "base_uri": "https://localhost:8080/"
        },
        "outputId": "55e1810a-75f0-405a-ea25-40d8eb387821"
      },
      "source": [
        "class Nodo:\n",
        "  def __init__(self,dato):\n",
        "    self.dato = dato\n",
        "    self.siguiente = None\n",
        "\n",
        "a = Nodo(10)\n",
        "print(a.dato)\n",
        "print(a.siguiente)\n",
        "\n",
        "a.siguiente = Nodo(20)\n",
        "\n",
        "a.siguiente.siguiente= Nodo(30)\n",
        "\n",
        "a.siguiente.siguiente.siguiente = Nodo(40)\n",
        "\n",
        "\n",
        "\n",
        "\n",
        "curr_node = a\n",
        "print(curr_node.dato, \"-->\", end=\"\")\n",
        "while(curr_node.siguiente != None):\n",
        "  curr_node = curr_node.siguiente\n",
        "  print(curr_node.dato, \"-->\", end=\"\")\n",
        "print(\"\")\n",
        "\n",
        "a.siguiente.siguiente = Nodo(35)\n",
        "a.siguiente.siguiente.siguiente = Nodo(45)\n",
        "a.siguiente.siguiente.siguiente.siguiente = Nodo (50)\n",
        "\n",
        "curr_node = a\n",
        "print(curr_node.dato, \"-->\", end=\"\")\n",
        "while(curr_node.siguiente != None):\n",
        "  curr_node = curr_node.siguiente\n",
        "  print(curr_node.dato, \"-->\", end=\"\")\n",
        "print(\"\")\n",
        "\n",
        "a.siguiente.siguiente = a.siguiente.siguiente.siguiente\n",
        "\n",
        "a.siguiente = a.siguiente.siguiente.siguiente.siguiente\n",
        "\n",
        "curr_node = a\n",
        "print(curr_node.dato, \"-->\", end=\"\")\n",
        "while(curr_node.siguiente != None):\n",
        "  curr_node = curr_node.siguiente\n",
        "  print(curr_node.dato, \"-->\", end=\"\")\n",
        "print(\"\")\n"
      ],
      "execution_count": null,
      "outputs": [
        {
          "output_type": "stream",
          "text": [
            "10\n",
            "None\n",
            "10 -->20 -->30 -->40 -->\n",
            "10 -->20 -->35 -->45 -->50 -->\n",
            "10 -->\n"
          ],
          "name": "stdout"
        }
      ]
    },
    {
      "cell_type": "code",
      "metadata": {
        "colab": {
          "base_uri": "https://localhost:8080/"
        },
        "id": "_6Prx1A0JOrH",
        "outputId": "80b709e7-2f7f-4629-b9d3-bc964c2c6c4a"
      },
      "source": [
        "#Código del 18 de noviembre\n",
        "\n",
        "class Nodo:\n",
        "  def __init__(self,dato, siguiente = None):\n",
        "    self.dato = dato\n",
        "    self.siguiente = siguiente\n",
        "\n",
        "head = Nodo ( 10 , Nodo ( 20 , Nodo ( 30 , Nodo ( 40 , Nodo ( 50 ) ) ) ) ) \n",
        "\n",
        "curr_node = head\n",
        "print(curr_node.dato, \"-->\", end=\"\")\n",
        "while(curr_node.siguiente != None):\n",
        "  curr_node = curr_node.siguiente\n",
        "  print(curr_node.dato, \"-->\", end=\"\")\n",
        "print(\"\")\n",
        "\n",
        "anterior = head.siguiente.siguiente\n",
        "print(anterior.dato)\n",
        "nuevo = Nodo(35)\n",
        "nuevo.siguiente = anterior.siguiente\n",
        "print(nuevo.siguiente.dato)\n",
        "anterior.siguiente = nuevo\n",
        "\n",
        "curr_node = head\n",
        "print(curr_node.dato, \"|-|\", end=\"\")\n",
        "while(curr_node.siguiente != None):\n",
        "  curr_node = curr_node.siguiente\n",
        "  print(curr_node.dato, \"|-|\", end=\"\")\n",
        "print(\"\")\n",
        "\n",
        "#eliminar el nodo \"20\"\n",
        "\n",
        "head = \n",
        "\n",
        "curr_node = head\n",
        "print(curr_node.dato, \"|-|\", end=\"\")\n",
        "while(curr_node.siguiente != None):\n",
        "  curr_node = curr_node.siguiente\n",
        "  print(curr_node.dato, \"|-|\", end=\"\")\n",
        "print(\"\")"
      ],
      "execution_count": 8,
      "outputs": [
        {
          "output_type": "stream",
          "text": [
            "10 -->20 -->30 -->40 -->50 -->\n",
            "30\n",
            "40\n",
            "10 |-|20 |-|30 |-|35 |-|40 |-|50 |-|\n"
          ],
          "name": "stdout"
        }
      ]
    },
    {
      "cell_type": "code",
      "metadata": {
        "id": "cOA95dgPVbib"
      },
      "source": [
        "class Nodo:\n",
        "  def __init__(self,dato, siguiente = None):\n",
        "    self.dato = dato\n",
        "    self.siguiente = siguiente\n",
        "\n",
        "class LinkedList:\n",
        "  def __init__( self ):\n",
        "    self.__head = None\n",
        "  \n",
        "  def is_empty( self ):\n",
        "    return self.__head == None\n",
        "  "
      ],
      "execution_count": null,
      "outputs": []
    }
  ]
}